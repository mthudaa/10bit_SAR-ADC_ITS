{
 "cells": [
  {
   "cell_type": "code",
   "execution_count": 1,
   "id": "068092c2",
   "metadata": {},
   "outputs": [
    {
     "name": "stderr",
     "output_type": "stream",
     "text": [
      "/home/mthudaa/.local/lib/python3.10/site-packages/matplotlib/projections/__init__.py:63: UserWarning: Unable to import Axes3D. This may be due to multiple versions of Matplotlib being installed (e.g. as a system package and as a pip package). As a result, the 3D projection is not available.\n",
      "  warnings.warn(\"Unable to import Axes3D. This may be due to multiple versions of \"\n"
     ]
    }
   ],
   "source": [
    "# %% Impor Library\n",
    "import numpy as np\n",
    "import matplotlib.pyplot as plt"
   ]
  },
  {
   "cell_type": "code",
   "execution_count": 2,
   "id": "1d0fd2ca",
   "metadata": {},
   "outputs": [],
   "source": [
    "# %% Fungsi Baca Data\n",
    "def baca_data(file_path, start_time, end_time, bit=10):\n",
    "    \"\"\"Membaca file data dan return waktu dan nilai digital\"\"\"\n",
    "    data = np.loadtxt(file_path)\n",
    "    time = data[:, 0]\n",
    "    vcp = data[:, 4]  # Ambil kolom VCP (kolom ke-5)\n",
    "    vcn = data[:, 5]  # Ambil kolom VCN (kolom ke-6)\n",
    "    ck = data[:, 1]  # Ambil kolom CKO (kolom ke-2)\n",
    "    ck_bits = (ck >= 0.9).astype(int)  # Ambil bit CKO\n",
    "    vc = vcp - vcn  # Hitung Vc dari VCP dan VCN\n",
    "\n",
    "    # Pilih data dalam window waktu\n",
    "    mask = (time >= start_time) & (time <= end_time)\n",
    "    time_sel = time[mask]\n",
    "    time_sel = time_sel - time_sel[0]  # Normalisasi waktu\n",
    "    vc_sel = vc[mask]\n",
    "    ck_sel = ck_bits[mask]\n",
    "\n",
    "    ck_points = np.zeros(2**bit, dtype=int)  # Tempat untuk menyimpan titik CKO\n",
    "    already = 0\n",
    "    for i in range(1, len(ck_sel)-1):\n",
    "        if ck_sel[i] == 0 and ck_sel[i+1] == 1 and already < 2**bit:\n",
    "            ck_points[already] = i + 1300  # Ambil titik CKO\n",
    "            already += 1\n",
    "        elif already >= 2**bit:\n",
    "            break\n",
    "\n",
    "    # Take samples at every n points\n",
    "    vc_sel_sampled = vc_sel[ck_points.astype(int)]\n",
    "    time_sel_sampled = time_sel[ck_points.astype(int)]\n",
    "\n",
    "    return time_sel_sampled, vc_sel_sampled\n",
    "\n",
    "def compute_fft(time, signal):\n",
    "    \"\"\"Compute the FFT of a signal with windowing.\"\"\"\n",
    "    n = len(signal)\n",
    "    # Apply Hanning window\n",
    "    window = np.blackman(n)\n",
    "    windowed_signal = signal * window\n",
    "    \n",
    "    fft_result = np.fft.fft(windowed_signal)\n",
    "    fft_result = fft_result[:n//2]  # Take only the positive frequencies\n",
    "    sampling_rate = 1 / (time[1] - time[0])  # Calculate sampling rate from time\n",
    "    freqs = np.fft.fftfreq(len(signal), d=1/sampling_rate)[:n//2]\n",
    "    power_spectrum = 20 * np.log10(np.abs(fft_result))\n",
    "    power_ref = np.max(power_spectrum)\n",
    "    mag = power_spectrum - power_ref  # Normalize to dB\n",
    "    return freqs, mag"
   ]
  },
  {
   "cell_type": "code",
   "execution_count": null,
   "id": "b84d45e7",
   "metadata": {},
   "outputs": [
    {
     "name": "stdout",
     "output_type": "stream",
     "text": [
      "=== Configuration Parameters ===\n",
      "File Path: th_tb.txt\n",
      "ADC Resolution: 8 bits\n",
      "Number of FFT Points: 256\n",
      "\n",
      "=== Timing Parameters ===\n",
      "Start Time: 0.60 µs\n",
      "Sampling Period: 0.40 µs\n",
      "Sampling Frequency: 2500.00 kHz\n",
      "Duration: 0.10 ms\n",
      "End Time: 103.00 µs\n",
      "\n",
      "=== Frequency Analysis Parameters ===\n",
      "Input Frequency Ratio: 0.1\n",
      "Input Frequency: 253.91 kHz\n",
      "Number of Harmonics: 10\n"
     ]
    }
   ],
   "source": [
    "# %% Parameter Input\n",
    "# File and ADC Configuration\n",
    "file_path = \"sim/th_tb.txt\"    # Data file path\n",
    "bit = 8                            # ADC resolution (bits)\n",
    "nbpt = 2**bit                      # Number of FFT points (power of 2)\n",
    "\n",
    "# Timing Parameters\n",
    "start_time = 0.6e-6               # Start time for analysis (seconds)\n",
    "sampling_period = 0.4e-6          # Sampling period (seconds)\n",
    "fs_param = 1/sampling_period      # Sampling frequency (Hz)\n",
    "duration = nbpt/fs_param          # Signal duration (seconds)\n",
    "end_time = start_time + duration  # End time for analysis (seconds)\n",
    "\n",
    "# Frequency Analysis Parameters\n",
    "fin_ratio = 0.1                   # Input frequency ratio to sampling frequency\n",
    "fin = (round(fin_ratio * nbpt)/nbpt) * fs_param  # Input frequency (Hz)\n",
    "num_harmonics = 10                # Number of harmonics to analyze\n",
    "\n",
    "# Print Parameter Values\n",
    "print(\"=== Configuration Parameters ===\")\n",
    "print(f\"File Path: {file_path}\")\n",
    "print(f\"ADC Resolution: {bit} bits\")\n",
    "print(f\"Number of FFT Points: {nbpt}\")\n",
    "print(\"\\n=== Timing Parameters ===\")\n",
    "print(f\"Start Time: {start_time*1e6:.2f} µs\")\n",
    "print(f\"Sampling Period: {sampling_period*1e6:.2f} µs\")\n",
    "print(f\"Sampling Frequency: {fs_param/1e3:.2f} kHz\")\n",
    "print(f\"Duration: {duration*1e3:.2f} ms\")\n",
    "print(f\"End Time: {end_time*1e6:.2f} µs\")\n",
    "print(\"\\n=== Frequency Analysis Parameters ===\")\n",
    "print(f\"Input Frequency Ratio: {fin_ratio}\")\n",
    "print(f\"Input Frequency: {fin/1e3:.2f} kHz\")\n",
    "print(f\"Number of Harmonics: {num_harmonics}\")"
   ]
  },
  {
   "cell_type": "code",
   "execution_count": null,
   "id": "98a256f2",
   "metadata": {},
   "outputs": [],
   "source": [
    "time, vc = baca_data(file_path, start_time, end_time, bit)\n",
    "time.shape, vc.shape"
   ]
  }
 ],
 "metadata": {
  "kernelspec": {
   "display_name": "Python 3",
   "language": "python",
   "name": "python3"
  },
  "language_info": {
   "codemirror_mode": {
    "name": "ipython",
    "version": 3
   },
   "file_extension": ".py",
   "mimetype": "text/x-python",
   "name": "python",
   "nbconvert_exporter": "python",
   "pygments_lexer": "ipython3",
   "version": "3.10.12"
  }
 },
 "nbformat": 4,
 "nbformat_minor": 5
}
